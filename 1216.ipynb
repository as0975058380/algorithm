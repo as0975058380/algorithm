{
  "nbformat": 4,
  "nbformat_minor": 0,
  "metadata": {
    "colab": {
      "name": "1216.ipynb",
      "provenance": [],
      "authorship_tag": "ABX9TyNpOE6inER5+HGT9Dk8xrHu",
      "include_colab_link": true
    },
    "kernelspec": {
      "name": "python3",
      "display_name": "Python 3"
    }
  },
  "cells": [
    {
      "cell_type": "markdown",
      "metadata": {
        "id": "view-in-github",
        "colab_type": "text"
      },
      "source": [
        "<a href=\"https://colab.research.google.com/github/as0975058380/algorithm/blob/master/1216.ipynb\" target=\"_parent\"><img src=\"https://colab.research.google.com/assets/colab-badge.svg\" alt=\"Open In Colab\"/></a>"
      ]
    },
    {
      "cell_type": "markdown",
      "metadata": {
        "id": "lqXhNPC2a1Nh"
      },
      "source": [
        "NP-Complete\r\n",
        "• 由指定的起點前往指定的終點,途中經過所有其他節點且只經過一次\r\n",
        "• 在圖形上,經過所有的點且不 重複點而回到原來的出發點,這樣的問題我們稱\r\n",
        "之為“漢米爾頓迴路(Hamilton cycle)\"。\r\n",
        "• 在圖形上給定任意兩點 A、B,從 A 出發要 經過所有的點且不重複點而到達到\r\n",
        "B,這樣的問題稱作“漢米爾頓路徑 (Hamilton path)\""
      ]
    },
    {
      "cell_type": "markdown",
      "metadata": {
        "id": "1f_qj_g1aIvI"
      },
      "source": [
        "NP問題介紹:\r\n",
        "\r\n",
        "Hamilton迴路是一個NP問題，要驗證一條路是否恰好經過每一個頂點可在多項式的時間之內完成，但要找出一個Hamilton迴路卻要窮舉所有可能的答案，無法直接求解。\r\n",
        "\r\n",
        "參考資料:\r\n",
        "https://codertw.com/%E7%A8%8B%E5%BC%8F%E8%AA%9E%E8%A8%80/548457/#outline__3\r\n",
        "\r\n",
        "\r\n",
        "\r\n",
        "解法/證明:\r\n",
        "\r\n",
        "設一個無向圖中有N個節點，若所有路由器的度數都大於等於N / 2，則Hamilton迴路一定存在。注意，“ N / 2”中的除法不是整除，甚至實數除法。如果N是偶數，當然沒有歧義；如果N是奇數，則該條件中的“ N / 2”等價於“⌈N/2⌉”\r\n",
        "\r\n",
        "參考資料:\r\n",
        "https://baike.baidu.com/item/%E6%B1%89%E5%AF%86%E5%B0%94%E9%A1%BF%E5%9B%9E%E8%B7%AF\r\n",
        "\r\n",
        "\r\n"
      ]
    },
    {
      "cell_type": "code",
      "metadata": {
        "id": "UugIL0aHaG6Z"
      },
      "source": [
        "def hamilton(G, size, pt, path=[]):\r\n",
        "    print('hamilton called with pt={}, path={}'.format(pt, path))\r\n",
        "    if pt not in set(path):\r\n",
        "        path.append(pt)\r\n",
        "        if len(path)==size:\r\n",
        "            return path\r\n",
        "        for pt_next in G.get(pt, []):\r\n",
        "            res_path = [i for i in path]\r\n",
        "            candidate = hamilton(G, size, pt_next, res_path)\r\n",
        "            if candidate is not None:  # skip loop or dead end\r\n",
        "                return candidate\r\n",
        "        print('path {} is a dead end'.format(path))\r\n",
        "    else:\r\n",
        "        print('pt {} already in path {}'.format(pt, path))\r\n",
        "    # loop or dead end, None is implicitly returned\r\n"
      ],
      "execution_count": 10,
      "outputs": []
    },
    {
      "cell_type": "markdown",
      "metadata": {
        "id": "yrkPAHJqd1sh"
      },
      "source": [
        ""
      ]
    }
  ]
}