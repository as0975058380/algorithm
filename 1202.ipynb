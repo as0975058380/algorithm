{
  "nbformat": 4,
  "nbformat_minor": 0,
  "metadata": {
    "colab": {
      "name": "1202.ipynb",
      "provenance": [],
      "authorship_tag": "ABX9TyPdVjEN2qgiLUTo//LPwCEh",
      "include_colab_link": true
    },
    "kernelspec": {
      "name": "python3",
      "display_name": "Python 3"
    }
  },
  "cells": [
    {
      "cell_type": "markdown",
      "metadata": {
        "id": "view-in-github",
        "colab_type": "text"
      },
      "source": [
        "<a href=\"https://colab.research.google.com/github/as0975058380/algorithm/blob/master/1202.ipynb\" target=\"_parent\"><img src=\"https://colab.research.google.com/assets/colab-badge.svg\" alt=\"Open In Colab\"/></a>"
      ]
    },
    {
      "cell_type": "code",
      "metadata": {
        "colab": {
          "base_uri": "https://localhost:8080/"
        },
        "id": "KxqLp5W0JgE4",
        "outputId": "3c8641db-5b32-4745-966b-cdaaf9677a05"
      },
      "source": [
        "#背包貪婪\n",
        "# t = 面額\n",
        "t = [25,20,5,1]\n",
        "\n",
        "# n = 多少錢\n",
        "def change(t,n):\n",
        "  m = [0 for _ in range(len(t))]\n",
        "  for i , money in enumerate(t):\n",
        "    m[i] = n // money\n",
        "    n = n % money\n",
        "    print((m,n))\n",
        " \n",
        "a =int(input(\"輸入數字\"))\n",
        "change(t,a)\n",
        " "
      ],
      "execution_count": 65,
      "outputs": [
        {
          "output_type": "stream",
          "text": [
            "輸入數字41\n",
            "([1, 0, 0, 0], 16)\n",
            "([1, 0, 0, 0], 16)\n",
            "([1, 0, 3, 0], 1)\n",
            "([1, 0, 3, 1], 0)\n"
          ],
          "name": "stdout"
        }
      ]
    },
    {
      "cell_type": "code",
      "metadata": {
        "colab": {
          "base_uri": "https://localhost:8080/"
        },
        "id": "Tg-pOqwxSmbL",
        "outputId": "88d716e2-a38c-452a-c838-31813e617335"
      },
      "source": [
        "#背包問題dp\n",
        "def coin_change(coins,change,dp,coins_used):\n",
        "\t\n",
        "\tfor i in range(1,change+1):\n",
        "\n",
        "\t\tfor j in range(len(coins)):\n",
        "\t\t\tif coins[j]<=i:\n",
        "\t\t\t\n",
        "\t\t\t\tif dp[i-coins[j]]+1<dp[i]:\n",
        "\t\t\t\t\n",
        "\t\t\t\t\tdp[i]=dp[i-coins[j]]+1\n",
        "\t\t\t\t\n",
        "\t\t\t\t\tnew_coin=coins[j]\n",
        "\t\tcoins_used[i]=new_coin\n",
        " \n",
        "\tif dp[change]>change:\n",
        "\n",
        "\t\treturn -1\n",
        "\telse:\n",
        "\t\treturn dp[change]\n",
        "def used_coins(change,used_coins):\n",
        "\t\n",
        "\tre=[]\n",
        "\twhile change:\n",
        "\t\t\n",
        "\t\ttmp=used_coins[change]\n",
        "\t\tre.append(tmp)\n",
        "\t\tchange-=tmp\n",
        "\treturn re\n",
        " \n",
        "\n",
        "if __name__=='__main__':\n",
        "\t#初始化\n",
        "\tcoins=[1,2,5,7,10]\n",
        "\tchange=int(input(\"請輸入數字\"))\n",
        "\tdp=[change+1]*(change+1)\n",
        "\tdp[0]=0\n",
        "\tcoins_used=[0]*(change+1)\n",
        " \n",
        "\tre=coin_change(coins,change,dp,coins_used)\n",
        "\tre_coins=used_coins(change,coins_used)\n",
        "\tprint(\"找零{0}元需要{1}張,分别是{2}\".format(change,re,re_coins))"
      ],
      "execution_count": 72,
      "outputs": [
        {
          "output_type": "stream",
          "text": [
            "請輸入數字10\n",
            "找零10元需要1張,分别是[10]\n"
          ],
          "name": "stdout"
        }
      ]
    },
    {
      "cell_type": "code",
      "metadata": {
        "colab": {
          "base_uri": "https://localhost:8080/"
        },
        "id": "Ta-TUC0kVg6y",
        "outputId": "96e5333d-1326-4cb3-dabd-248b5d9da62d"
      },
      "source": [
        "#小偷\n",
        "# t = kg\n",
        "t = [4,1,2,5,3]\n",
        "\n",
        "# n = 多少錢\n",
        "def change(t,n):\n",
        "  m = [0 for _ in range(len(t))]\n",
        "  for i , money in enumerate(t):\n",
        "    m[i] = 1\n",
        "    if (n-money)<0:\n",
        "      n=n\n",
        "      m[i]=0\n",
        "    else:\n",
        "      n=n-money\n",
        "    print(m,n)\n",
        "change(t,10)\n",
        " "
      ],
      "execution_count": 133,
      "outputs": [
        {
          "output_type": "stream",
          "text": [
            "[1, 0, 0, 0, 0] 6\n",
            "[1, 1, 0, 0, 0] 5\n",
            "[1, 1, 1, 0, 0] 3\n",
            "[1, 1, 1, 0, 0] 3\n",
            "[1, 1, 1, 0, 1] 0\n"
          ],
          "name": "stdout"
        }
      ]
    },
    {
      "cell_type": "code",
      "metadata": {
        "id": "smZCYMa7hRvt"
      },
      "source": [
        ""
      ],
      "execution_count": null,
      "outputs": []
    }
  ]
}