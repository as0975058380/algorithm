{
  "nbformat": 4,
  "nbformat_minor": 0,
  "metadata": {
    "colab": {
      "name": "Untitled9.ipynb",
      "provenance": [],
      "authorship_tag": "ABX9TyMrBo7d2gMIWZKFoCGGvJmZ",
      "include_colab_link": true
    },
    "kernelspec": {
      "name": "python3",
      "display_name": "Python 3"
    }
  },
  "cells": [
    {
      "cell_type": "markdown",
      "metadata": {
        "id": "view-in-github",
        "colab_type": "text"
      },
      "source": [
        "<a href=\"https://colab.research.google.com/github/as0975058380/algorithm/blob/master/1209.ipynb\" target=\"_parent\"><img src=\"https://colab.research.google.com/assets/colab-badge.svg\" alt=\"Open In Colab\"/></a>"
      ]
    },
    {
      "cell_type": "code",
      "metadata": {
        "colab": {
          "base_uri": "https://localhost:8080/"
        },
        "id": "nunj5-BuWrFj",
        "outputId": "c09170d8-6c8b-437a-e976-8bd7e2ab4b7f"
      },
      "source": [
        "def BottomUpCutRod(p, n):\r\n",
        "    n = int(input(\"請輸入鐵條長度\"))\r\n",
        "    r = [0]*(n+1)\r\n",
        "    for i in range(1, n+1):\r\n",
        "        if n == 0:\r\n",
        "            return 0\r\n",
        "        q =0\r\n",
        "        for j in range(1, i+1):\r\n",
        "            q = max(q, p[j]+r[i-j])\r\n",
        "            r[i] = q\r\n",
        "    return r[n],r\r\n",
        "p=[0,1,5,8,9,10,17,17,20,24,30]\r\n",
        "print(BottomUpCutRod(p, 10))   "
      ],
      "execution_count": 7,
      "outputs": [
        {
          "output_type": "stream",
          "text": [
            "請輸入鐵條長度7\n",
            "(18, [0, 1, 5, 8, 10, 13, 17, 18])\n"
          ],
          "name": "stdout"
        }
      ]
    },
    {
      "cell_type": "markdown",
      "metadata": {
        "id": "_AeIVvC_YcMG"
      },
      "source": [
        "DP練習\r\n",
        "\r\n",
        "d(S,T)=min(1+d(A,T),2+d(B,T),5+d(C,T))\r\n",
        "d(A,T)=min(4+d(D,T))=4+1=5\r\n",
        "d(B,T)=min(11+d(D,T),13+d(B,T),16+d(F,T))\r\n",
        "=min(12,13,18)=12\r\n",
        "d(C,T)=min(2+d(F,T))=4\r\n",
        "d(S,T)=min(6,14,9)=6\r\n",
        "\r\n",
        "\r\n",
        "n=7 (6,1)=18個 (最多)\r\n",
        "n=7 (3,4)=17 \r\n",
        "n=7 (3,3,1)=17\r\n",
        "n=7 (7,0)=17\r\n"
      ]
    }
  ]
}