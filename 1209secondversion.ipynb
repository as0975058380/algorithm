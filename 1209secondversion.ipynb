{
  "nbformat": 4,
  "nbformat_minor": 0,
  "metadata": {
    "colab": {
      "name": "Untitled10.ipynb",
      "provenance": [],
      "authorship_tag": "ABX9TyPxxQi5DHanbJYmnsHdWc7u",
      "include_colab_link": true
    },
    "kernelspec": {
      "name": "python3",
      "display_name": "Python 3"
    }
  },
  "cells": [
    {
      "cell_type": "markdown",
      "metadata": {
        "id": "view-in-github",
        "colab_type": "text"
      },
      "source": [
        "<a href=\"https://colab.research.google.com/github/as0975058380/algorithm/blob/master/1209secondversion.ipynb\" target=\"_parent\"><img src=\"https://colab.research.google.com/assets/colab-badge.svg\" alt=\"Open In Colab\"/></a>"
      ]
    },
    {
      "cell_type": "code",
      "metadata": {
        "colab": {
          "base_uri": "https://localhost:8080/"
        },
        "id": "669A3217Y2x8",
        "outputId": "6fab2836-160f-4cb5-e31f-8ae27aafc44d"
      },
      "source": [
        "def cutrod(p,n):\r\n",
        "    n=int(input(\"請輸入鐵條長度\"))\r\n",
        "    \r\n",
        "    if n==0: #沒切則回傳0\r\n",
        "      return 0\r\n",
        "    q=-99999999;\r\n",
        "    for i in range(1,n+1):\r\n",
        "     q = max(q, p[i]+p[n-i]) #從括號中選出最大值\r\n",
        "     \r\n",
        "    return q\r\n",
        "    \r\n",
        "p=[0,1,5,8,9,10,17,17,20,24,30] #0為不切 \r\n",
        "print(cutrod(p,10))"
      ],
      "execution_count": 44,
      "outputs": [
        {
          "output_type": "stream",
          "text": [
            "請輸入鐵條長度0\n",
            "0\n"
          ],
          "name": "stdout"
        }
      ]
    }
  ]
}