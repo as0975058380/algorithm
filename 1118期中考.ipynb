{
  "nbformat": 4,
  "nbformat_minor": 0,
  "metadata": {
    "colab": {
      "name": "Untitled8.ipynb",
      "provenance": [],
      "authorship_tag": "ABX9TyME5jb8RPLAb191OWXWzgJ+",
      "include_colab_link": true
    },
    "kernelspec": {
      "name": "python3",
      "display_name": "Python 3"
    }
  },
  "cells": [
    {
      "cell_type": "markdown",
      "metadata": {
        "id": "view-in-github",
        "colab_type": "text"
      },
      "source": [
        "<a href=\"https://colab.research.google.com/github/as0975058380/algorithm/blob/master/1118%E6%9C%9F%E4%B8%AD%E8%80%83.ipynb\" target=\"_parent\"><img src=\"https://colab.research.google.com/assets/colab-badge.svg\" alt=\"Open In Colab\"/></a>"
      ]
    },
    {
      "cell_type": "code",
      "metadata": {
        "colab": {
          "base_uri": "https://localhost:8080/"
        },
        "id": "haOBYYVCWgFy",
        "outputId": "2ee38948-de51-4c48-a852-70bda0054b68"
      },
      "source": [
        "def Selction_Sort(datas):\n",
        "    for i in range(len(datas)-1):\n",
        "        min = i # 第一次選從第一個數開始,第二次從第二個數開始\n",
        "        for j in range(i+1, len(datas)):    # 用記錄的max數與其他的比較\n",
        "            if datas[j] > datas[min]:    # 把最大的數放前面\n",
        "                min = j\n",
        "\n",
        "        datas[i], datas[min] = datas[min], datas[i]\n",
        "\n",
        "        \n",
        "        \n",
        "        print(datas)\n",
        "        print('---'*10)\n",
        "    return datas\n",
        "\n",
        "\n",
        "if __name__ == '__main__':\n",
        "    import random\n",
        "    a = list(range(8)) #隨機生成8個數\n",
        "    random.shuffle(a)\n",
        "    print(\"原始序列:\")\n",
        "    print(a)\n",
        "    print(\"---\"*10)\n",
        "    a = Selction_Sort(a)\n",
        "    print(a)"
      ],
      "execution_count": 1,
      "outputs": [
        {
          "output_type": "stream",
          "text": [
            "原始序列:\n",
            "[1, 5, 7, 0, 6, 2, 3, 4]\n",
            "------------------------------\n",
            "[7, 5, 1, 0, 6, 2, 3, 4]\n",
            "------------------------------\n",
            "[7, 6, 1, 0, 5, 2, 3, 4]\n",
            "------------------------------\n",
            "[7, 6, 5, 0, 1, 2, 3, 4]\n",
            "------------------------------\n",
            "[7, 6, 5, 4, 1, 2, 3, 0]\n",
            "------------------------------\n",
            "[7, 6, 5, 4, 3, 2, 1, 0]\n",
            "------------------------------\n",
            "[7, 6, 5, 4, 3, 2, 1, 0]\n",
            "------------------------------\n",
            "[7, 6, 5, 4, 3, 2, 1, 0]\n",
            "------------------------------\n",
            "[7, 6, 5, 4, 3, 2, 1, 0]\n"
          ],
          "name": "stdout"
        }
      ]
    },
    {
      "cell_type": "code",
      "metadata": {
        "colab": {
          "base_uri": "https://localhost:8080/"
        },
        "id": "5A8vyDgLWjlw",
        "outputId": "b4bc7a1a-c351-40c1-b1ef-423ef8649e70"
      },
      "source": [
        "def Insertion_Sort(datas):\n",
        "    for i in range(1, len(datas)):  # \n",
        "        for j in range(i):\n",
        "            current = datas[i]\n",
        "            if current < datas[j]:\n",
        "                for k in range(i,j):\n",
        "                  print(datas)\n",
        "    return datas\n",
        "\n",
        "\n",
        "def insertionSort(arr):\n",
        "    for i in range(len(arr)):\n",
        "        preIndex = i-1\n",
        "        current = arr[i]\n",
        "        while preIndex >= 0 and arr[preIndex] > current:\n",
        "            arr[preIndex+1] = arr[preIndex]\n",
        "            preIndex-=1\n",
        "        arr[preIndex+1] = current\n",
        "        print(arr)\n",
        "        print('---'*10)\n",
        "    return arr\n",
        "\n",
        "if __name__ == '__main__':\n",
        "    import random\n",
        "    a = list(range(8))\n",
        "    random.shuffle(a)\n",
        "    print(\"原始序列:\")\n",
        "    b = a.copy()\n",
        "    arr = insertionSort(a)    \n",
        "    Insertion_Sort(b)"
      ],
      "execution_count": 2,
      "outputs": [
        {
          "output_type": "stream",
          "text": [
            "原始序列:\n",
            "[1, 5, 0, 7, 2, 6, 3, 4]\n",
            "------------------------------\n",
            "[1, 5, 0, 7, 2, 6, 3, 4]\n",
            "------------------------------\n",
            "[0, 1, 5, 7, 2, 6, 3, 4]\n",
            "------------------------------\n",
            "[0, 1, 5, 7, 2, 6, 3, 4]\n",
            "------------------------------\n",
            "[0, 1, 2, 5, 7, 6, 3, 4]\n",
            "------------------------------\n",
            "[0, 1, 2, 5, 6, 7, 3, 4]\n",
            "------------------------------\n",
            "[0, 1, 2, 3, 5, 6, 7, 4]\n",
            "------------------------------\n",
            "[0, 1, 2, 3, 4, 5, 6, 7]\n",
            "------------------------------\n"
          ],
          "name": "stdout"
        }
      ]
    }
  ]
}