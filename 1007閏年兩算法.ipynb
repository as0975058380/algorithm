{
  "nbformat": 4,
  "nbformat_minor": 0,
  "metadata": {
    "colab": {
      "name": "Untitled1.ipynb",
      "provenance": [],
      "authorship_tag": "ABX9TyPsOGkfhm5X99oGnzRC21cW",
      "include_colab_link": true
    },
    "kernelspec": {
      "name": "python3",
      "display_name": "Python 3"
    }
  },
  "cells": [
    {
      "cell_type": "markdown",
      "metadata": {
        "id": "view-in-github",
        "colab_type": "text"
      },
      "source": [
        "<a href=\"https://colab.research.google.com/github/as0975058380/algorithm/blob/master/1007%E9%96%8F%E5%B9%B4%E5%85%A9%E7%AE%97%E6%B3%95.ipynb\" target=\"_parent\"><img src=\"https://colab.research.google.com/assets/colab-badge.svg\" alt=\"Open In Colab\"/></a>"
      ]
    },
    {
      "cell_type": "markdown",
      "metadata": {
        "id": "qcjXrKO38n-E"
      },
      "source": [
        "空間換時間"
      ]
    },
    {
      "cell_type": "code",
      "metadata": {
        "id": "Y0xgwmE76fhl",
        "outputId": "71c439d5-3c6c-4f8f-89c2-4ee5dfc25c7d",
        "colab": {
          "base_uri": "https://localhost:8080/"
        }
      },
      "source": [
        "year = int(input(\"請輸入一個西元年份:\"))\n",
        "if (year % 4) == 0:\n",
        "    if (year % 100) == 0:\n",
        "        if (year % 400) == 0:\n",
        "            print(\"西元%s年是閏年\" % year)\n",
        "        else:\n",
        "            print(\"西元%s年不是閏年\" % year)\n",
        "    else:\n",
        "        print(\"西元%s年是閏年\" % year)\n",
        "else:\n",
        "    print(\"西元%s年不是閏年\" % year)\n",
        "\n",
        "\n",
        "\n",
        "\n",
        "\n",
        "\n"
      ],
      "execution_count": 11,
      "outputs": [
        {
          "output_type": "stream",
          "text": [
            "請輸入一個西元年份:2020\n",
            "西元2020年是閏年\n"
          ],
          "name": "stdout"
        }
      ]
    },
    {
      "cell_type": "code",
      "metadata": {
        "id": "opsXt7o5-TF-",
        "outputId": "220c0eb1-153c-4b88-e260-8e0426a49e26",
        "colab": {
          "base_uri": "https://localhost:8080/"
        }
      },
      "source": [
        "year = int(input(\"請輸入西元2020~2040任一年份:\"))\n",
        "\n",
        "leap_year_list = [2020,2024,2028,2032,2036,2040] \n",
        "\n",
        "for x in leap_year_list:\n",
        "  if year in leap_year_list:\n",
        "    print(\"是閏年\")\n",
        "  else:\n",
        "    print(\"不是閏年\")\n",
        "  break\n",
        "  \n",
        "\n",
        "    \n",
        "      \n",
        "        \n",
        "               \n",
        "                   \n",
        "                    \n",
        "                    \n",
        "           \n",
        "                \n",
        "               \n",
        "    \n",
        "\n"
      ],
      "execution_count": 43,
      "outputs": [
        {
          "output_type": "stream",
          "text": [
            "請輸入西元2020~2040任一年份:2023\n",
            "不是閏年\n"
          ],
          "name": "stdout"
        }
      ]
    },
    {
      "cell_type": "markdown",
      "metadata": {
        "id": "uGmajTOnFrmw"
      },
      "source": [
        "空間換時間"
      ]
    }
  ]
}