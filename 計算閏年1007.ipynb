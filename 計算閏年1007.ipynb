{
  "nbformat": 4,
  "nbformat_minor": 0,
  "metadata": {
    "colab": {
      "name": "Untitled1.ipynb",
      "provenance": [],
      "authorship_tag": "ABX9TyO7LaXoDA+jAYugWc+RTmi2",
      "include_colab_link": true
    },
    "kernelspec": {
      "name": "python3",
      "display_name": "Python 3"
    }
  },
  "cells": [
    {
      "cell_type": "markdown",
      "metadata": {
        "id": "view-in-github",
        "colab_type": "text"
      },
      "source": [
        "<a href=\"https://colab.research.google.com/github/as0975058380/algorithm/blob/master/%E8%A8%88%E7%AE%97%E9%96%8F%E5%B9%B41007.ipynb\" target=\"_parent\"><img src=\"https://colab.research.google.com/assets/colab-badge.svg\" alt=\"Open In Colab\"/></a>"
      ]
    },
    {
      "cell_type": "code",
      "metadata": {
        "id": "Y0xgwmE76fhl",
        "outputId": "7c3e3315-6a17-42d5-8f88-1a8d47df416b",
        "colab": {
          "base_uri": "https://localhost:8080/"
        }
      },
      "source": [
        "year = int(input(\"請輸入一個西元年份:\"))\n",
        "if (year % 4) == 0:\n",
        "    if (year % 100) == 0:\n",
        "        if (year % 400) == 0:\n",
        "            print(\"西元%s年是閏年\" % year)\n",
        "        else:\n",
        "            print(\"西元%s年不是閏年\" % year)\n",
        "    else:\n",
        "        print(\"西元%s年是閏年\" % year)\n",
        "else:\n",
        "    print(\"西元%s年不是閏年\" % year)\n"
      ],
      "execution_count": 7,
      "outputs": [
        {
          "output_type": "stream",
          "text": [
            "請輸入一個西元年份:1900\n",
            "西元1900年不是閏年\n"
          ],
          "name": "stdout"
        }
      ]
    }
  ]
}