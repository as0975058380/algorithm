{
  "nbformat": 4,
  "nbformat_minor": 0,
  "metadata": {
    "colab": {
      "name": "insertionsort.ipynb",
      "provenance": [],
      "collapsed_sections": [],
      "include_colab_link": true
    },
    "kernelspec": {
      "name": "python3",
      "display_name": "Python 3"
    }
  },
  "cells": [
    {
      "cell_type": "markdown",
      "metadata": {
        "id": "view-in-github",
        "colab_type": "text"
      },
      "source": [
        "<a href=\"https://colab.research.google.com/github/as0975058380/algorithm/blob/master/insertionsort.ipynb\" target=\"_parent\"><img src=\"https://colab.research.google.com/assets/colab-badge.svg\" alt=\"Open In Colab\"/></a>"
      ]
    },
    {
      "cell_type": "markdown",
      "metadata": {
        "id": "j95w6SLwOC0z"
      },
      "source": [
        "Insertion sort (插入排序)"
      ]
    },
    {
      "cell_type": "markdown",
      "metadata": {
        "id": "578L3dosF3no"
      },
      "source": [
        "2020/09/30"
      ]
    },
    {
      "cell_type": "code",
      "metadata": {
        "id": "BxBaYEwzNj_v",
        "outputId": "e69c4293-bd95-4823-e605-64bdd8f54d8e",
        "colab": {
          "base_uri": "https://localhost:8080/",
          "height": 306
        }
      },
      "source": [
        "\n",
        "def Insertion_Sort(datas): \n",
        "    for i in range(1, len(datas)):  #n-1 \n",
        "        for j in range(i):  #n(n+1)/2\n",
        "            current = datas[i]  #n(n+1)/2\n",
        "            if current < datas[j]:\n",
        "                for k in range(i,j):\n",
        "                  print(datas)  # (n-1)+(n(n+1)) = (n-1)+(n^2+n) = n^2+2n -1 = O(n^2)\n",
        "    return datas\n",
        "\n",
        "\n",
        "def insertionSort(arr):\n",
        "    for i in range(len(arr)):\n",
        "        preIndex = i-1\n",
        "        current = arr[i]\n",
        "        while preIndex >= 0 and arr[preIndex] > current:\n",
        "            arr[preIndex+1] = arr[preIndex]\n",
        "            preIndex-=1\n",
        "        arr[preIndex+1] = current\n",
        "        print(arr)\n",
        "    return arr\n",
        "\n",
        "if __name__ == '__main__':\n",
        "    import random\n",
        "    a = list(range(16))\n",
        "    random.shuffle(a)\n",
        "    b = a.copy()\n",
        "\n",
        "    arr = insertionSort(a)\n",
        "    print('---'*16)\n",
        "    Insertion_Sort(b)"
      ],
      "execution_count": null,
      "outputs": [
        {
          "output_type": "stream",
          "text": [
            "[15, 9, 0, 14, 6, 12, 10, 5, 4, 13, 7, 8, 11, 1, 2, 3]\n",
            "[9, 15, 0, 14, 6, 12, 10, 5, 4, 13, 7, 8, 11, 1, 2, 3]\n",
            "[0, 9, 15, 14, 6, 12, 10, 5, 4, 13, 7, 8, 11, 1, 2, 3]\n",
            "[0, 9, 14, 15, 6, 12, 10, 5, 4, 13, 7, 8, 11, 1, 2, 3]\n",
            "[0, 6, 9, 14, 15, 12, 10, 5, 4, 13, 7, 8, 11, 1, 2, 3]\n",
            "[0, 6, 9, 12, 14, 15, 10, 5, 4, 13, 7, 8, 11, 1, 2, 3]\n",
            "[0, 6, 9, 10, 12, 14, 15, 5, 4, 13, 7, 8, 11, 1, 2, 3]\n",
            "[0, 5, 6, 9, 10, 12, 14, 15, 4, 13, 7, 8, 11, 1, 2, 3]\n",
            "[0, 4, 5, 6, 9, 10, 12, 14, 15, 13, 7, 8, 11, 1, 2, 3]\n",
            "[0, 4, 5, 6, 9, 10, 12, 13, 14, 15, 7, 8, 11, 1, 2, 3]\n",
            "[0, 4, 5, 6, 7, 9, 10, 12, 13, 14, 15, 8, 11, 1, 2, 3]\n",
            "[0, 4, 5, 6, 7, 8, 9, 10, 12, 13, 14, 15, 11, 1, 2, 3]\n",
            "[0, 4, 5, 6, 7, 8, 9, 10, 11, 12, 13, 14, 15, 1, 2, 3]\n",
            "[0, 1, 4, 5, 6, 7, 8, 9, 10, 11, 12, 13, 14, 15, 2, 3]\n",
            "[0, 1, 2, 4, 5, 6, 7, 8, 9, 10, 11, 12, 13, 14, 15, 3]\n",
            "[0, 1, 2, 3, 4, 5, 6, 7, 8, 9, 10, 11, 12, 13, 14, 15]\n",
            "------------------------------------------------\n"
          ],
          "name": "stdout"
        }
      ]
    }
  ]
}