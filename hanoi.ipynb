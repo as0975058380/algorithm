{
  "nbformat": 4,
  "nbformat_minor": 0,
  "metadata": {
    "colab": {
      "name": "Untitled6.ipynb",
      "provenance": [],
      "authorship_tag": "ABX9TyOEYXYJluGOpK/eftyVGy5v",
      "include_colab_link": true
    },
    "kernelspec": {
      "name": "python3",
      "display_name": "Python 3"
    }
  },
  "cells": [
    {
      "cell_type": "markdown",
      "metadata": {
        "id": "view-in-github",
        "colab_type": "text"
      },
      "source": [
        "<a href=\"https://colab.research.google.com/github/as0975058380/algorithm/blob/master/hanoi.ipynb\" target=\"_parent\"><img src=\"https://colab.research.google.com/assets/colab-badge.svg\" alt=\"Open In Colab\"/></a>"
      ]
    },
    {
      "cell_type": "code",
      "metadata": {
        "id": "YX0WDIHIIwgk",
        "outputId": "e441e7d9-7e19-4833-b6ef-7ead80bf8def",
        "colab": {
          "base_uri": "https://localhost:8080/"
        }
      },
      "source": [
        "def hanoi(n, A, B, C):\n",
        "    if n == 1:\n",
        "        print(str(n) + \"號圈：\" + A + \"→\" + C)\n",
        "    else:\n",
        "        hanoi(n-1, A, C, B)\n",
        "        print(str(n) + \"號圈：\" + A + \"→\" + C)\n",
        "        hanoi(n-1, B, A, C)\n",
        "\n",
        "ringNum = int(input(\"請輸入圈圈數：\"))\n",
        "hanoi(ringNum, \"A\", \"B\", \"C\")"
      ],
      "execution_count": 2,
      "outputs": [
        {
          "output_type": "stream",
          "text": [
            "請輸入圈圈數：5\n",
            "1號圈：A→C\n",
            "2號圈：A→B\n",
            "1號圈：C→B\n",
            "3號圈：A→C\n",
            "1號圈：B→A\n",
            "2號圈：B→C\n",
            "1號圈：A→C\n",
            "4號圈：A→B\n",
            "1號圈：C→B\n",
            "2號圈：C→A\n",
            "1號圈：B→A\n",
            "3號圈：C→B\n",
            "1號圈：A→C\n",
            "2號圈：A→B\n",
            "1號圈：C→B\n",
            "5號圈：A→C\n",
            "1號圈：B→A\n",
            "2號圈：B→C\n",
            "1號圈：A→C\n",
            "3號圈：B→A\n",
            "1號圈：C→B\n",
            "2號圈：C→A\n",
            "1號圈：B→A\n",
            "4號圈：B→C\n",
            "1號圈：A→C\n",
            "2號圈：A→B\n",
            "1號圈：C→B\n",
            "3號圈：A→C\n",
            "1號圈：B→A\n",
            "2號圈：B→C\n",
            "1號圈：A→C\n"
          ],
          "name": "stdout"
        }
      ]
    }
  ]
}